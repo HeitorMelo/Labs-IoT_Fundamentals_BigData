{
 "cells": [
  {
   "cell_type": "code",
   "execution_count": 2,
   "metadata": {
    "collapsed": true
   },
   "outputs": [],
   "source": [
    "import pandas as pd\n",
    "import numpy as np\n",
    "from matplotlib import pyplot as plt\n",
    "%matplotlib inline"
   ]
  },
  {
   "cell_type": "code",
   "execution_count": 5,
   "outputs": [],
   "source": [
    "Data = pd.read_csv('Datasets/rpi_describe.csv')"
   ],
   "metadata": {
    "collapsed": false
   }
  },
  {
   "cell_type": "code",
   "execution_count": 22,
   "outputs": [
    {
     "data": {
      "text/plain": "      weight  Rounded  diff\n9995  20.419     20.4   0.4\n9996  20.554     20.6   0.6\n9997  20.768     20.8   0.8\n9998  20.829     20.8   0.8\n9999  20.667     20.7   0.7",
      "text/html": "<div>\n<style scoped>\n    .dataframe tbody tr th:only-of-type {\n        vertical-align: middle;\n    }\n\n    .dataframe tbody tr th {\n        vertical-align: top;\n    }\n\n    .dataframe thead th {\n        text-align: right;\n    }\n</style>\n<table border=\"1\" class=\"dataframe\">\n  <thead>\n    <tr style=\"text-align: right;\">\n      <th></th>\n      <th>weight</th>\n      <th>Rounded</th>\n      <th>diff</th>\n    </tr>\n  </thead>\n  <tbody>\n    <tr>\n      <th>9995</th>\n      <td>20.419</td>\n      <td>20.4</td>\n      <td>0.4</td>\n    </tr>\n    <tr>\n      <th>9996</th>\n      <td>20.554</td>\n      <td>20.6</td>\n      <td>0.6</td>\n    </tr>\n    <tr>\n      <th>9997</th>\n      <td>20.768</td>\n      <td>20.8</td>\n      <td>0.8</td>\n    </tr>\n    <tr>\n      <th>9998</th>\n      <td>20.829</td>\n      <td>20.8</td>\n      <td>0.8</td>\n    </tr>\n    <tr>\n      <th>9999</th>\n      <td>20.667</td>\n      <td>20.7</td>\n      <td>0.7</td>\n    </tr>\n  </tbody>\n</table>\n</div>"
     },
     "execution_count": 22,
     "metadata": {},
     "output_type": "execute_result"
    }
   ],
   "source": [
    "Data.tail(5)"
   ],
   "metadata": {
    "collapsed": false
   }
  },
  {
   "cell_type": "markdown",
   "source": [],
   "metadata": {
    "collapsed": false
   }
  },
  {
   "cell_type": "code",
   "execution_count": 37,
   "outputs": [
    {
     "data": {
      "text/plain": "             weight       Rounded          diff\ncount  10000.000000  10000.000000  10000.000000\nmean      20.499212     20.499360      0.499360\nstd        0.199874      0.202341      0.202341\nmin       19.752000     19.800000     -0.200000\n25%       20.365000     20.400000      0.400000\n50%       20.500000     20.500000      0.500000\n75%       20.635000     20.600000      0.600000\nmax       21.171000     21.200000      1.200000",
      "text/html": "<div>\n<style scoped>\n    .dataframe tbody tr th:only-of-type {\n        vertical-align: middle;\n    }\n\n    .dataframe tbody tr th {\n        vertical-align: top;\n    }\n\n    .dataframe thead th {\n        text-align: right;\n    }\n</style>\n<table border=\"1\" class=\"dataframe\">\n  <thead>\n    <tr style=\"text-align: right;\">\n      <th></th>\n      <th>weight</th>\n      <th>Rounded</th>\n      <th>diff</th>\n    </tr>\n  </thead>\n  <tbody>\n    <tr>\n      <th>count</th>\n      <td>10000.000000</td>\n      <td>10000.000000</td>\n      <td>10000.000000</td>\n    </tr>\n    <tr>\n      <th>mean</th>\n      <td>20.499212</td>\n      <td>20.499360</td>\n      <td>0.499360</td>\n    </tr>\n    <tr>\n      <th>std</th>\n      <td>0.199874</td>\n      <td>0.202341</td>\n      <td>0.202341</td>\n    </tr>\n    <tr>\n      <th>min</th>\n      <td>19.752000</td>\n      <td>19.800000</td>\n      <td>-0.200000</td>\n    </tr>\n    <tr>\n      <th>25%</th>\n      <td>20.365000</td>\n      <td>20.400000</td>\n      <td>0.400000</td>\n    </tr>\n    <tr>\n      <th>50%</th>\n      <td>20.500000</td>\n      <td>20.500000</td>\n      <td>0.500000</td>\n    </tr>\n    <tr>\n      <th>75%</th>\n      <td>20.635000</td>\n      <td>20.600000</td>\n      <td>0.600000</td>\n    </tr>\n    <tr>\n      <th>max</th>\n      <td>21.171000</td>\n      <td>21.200000</td>\n      <td>1.200000</td>\n    </tr>\n  </tbody>\n</table>\n</div>"
     },
     "execution_count": 37,
     "metadata": {},
     "output_type": "execute_result"
    }
   ],
   "source": [
    "Data.describe()"
   ],
   "metadata": {
    "collapsed": false
   }
  },
  {
   "cell_type": "code",
   "execution_count": 20,
   "outputs": [],
   "source": [
    "Data['Rounded'] = Data['weight'].apply(lambda x: round(x, 1))"
   ],
   "metadata": {
    "collapsed": false
   }
  },
  {
   "cell_type": "code",
   "execution_count": 21,
   "outputs": [],
   "source": [
    "Data['diff'] = Data['Rounded'] - 20"
   ],
   "metadata": {
    "collapsed": false
   }
  },
  {
   "cell_type": "code",
   "execution_count": 48,
   "outputs": [],
   "source": [
    "count = [len(Data[i]) for i in Data.columns]\n",
    "mean = [round(Data[i].sum()/len(Data[i]), 5) for i in Data.columns]\n",
    "median = []\n",
    "for i in Data.columns:\n",
    "    if len(Data[i])%2 == 0:\n",
    "        median.append(round((sorted(Data[i])[len(Data[i])//2] + sorted(Data[i])[len(Data[i])//2 - 1]) / 2, 5))\n",
    "    else:\n",
    "        median.append(sorted(Data[i])[len(Data[i])//2])\n",
    "std = []\n",
    "for i, m, c in zip(Data.columns, mean, count):\n",
    "    tempSum = 0\n",
    "    for j in Data[i]:\n",
    "        tempSum += (j - m) ** 2\n",
    "    std.append(round((tempSum/(c - 1))**(1/2), 5))\n",
    "rng = [round(i[-1] - i[0], 5) for i in [sorted(Data[j]) for j in Data.columns]]\n"
   ],
   "metadata": {
    "collapsed": false
   }
  },
  {
   "cell_type": "code",
   "execution_count": 42,
   "outputs": [
    {
     "data": {
      "text/plain": "[1.419, 1.4, 1.4]"
     },
     "execution_count": 42,
     "metadata": {},
     "output_type": "execute_result"
    }
   ],
   "source": [
    "rng"
   ],
   "metadata": {
    "collapsed": false
   }
  },
  {
   "cell_type": "code",
   "execution_count": 45,
   "outputs": [],
   "source": [
    "diststring = lambda x, y: f'The {x} of the distribuition is {y}'\n",
    "generalstrings = ['count', 'mean', 'median', 'standard distribuition', 'range']"
   ],
   "metadata": {
    "collapsed": false
   }
  },
  {
   "cell_type": "code",
   "execution_count": 49,
   "outputs": [
    {
     "name": "stdout",
     "output_type": "stream",
     "text": [
      "The count of the distribuition is 10000\n",
      "The mean of the distribuition is 20.49921\n",
      "The median of the distribuition is 20.5\n",
      "The standard distribuition of the distribuition is 0.19987\n",
      "The range of the distribuition is 1.419\n",
      "\n",
      "The count of the distribuition is 10000\n",
      "The mean of the distribuition is 20.49936\n",
      "The median of the distribuition is 20.5\n",
      "The standard distribuition of the distribuition is 0.20234\n",
      "The range of the distribuition is 1.4\n",
      "\n",
      "The count of the distribuition is 10000\n",
      "The mean of the distribuition is 0.49936\n",
      "The median of the distribuition is 0.5\n",
      "The standard distribuition of the distribuition is 0.20234\n",
      "The range of the distribuition is 1.4\n",
      "\n"
     ]
    }
   ],
   "source": [
    "for g in zip(count, mean, median, std, rng):\n",
    "    for n, v in zip(generalstrings, g):\n",
    "        print(diststring(n, v))\n",
    "    print('')"
   ],
   "metadata": {
    "collapsed": false
   }
  },
  {
   "cell_type": "code",
   "execution_count": null,
   "outputs": [],
   "source": [],
   "metadata": {
    "collapsed": false
   }
  }
 ],
 "metadata": {
  "kernelspec": {
   "display_name": "Python 3",
   "language": "python",
   "name": "python3"
  },
  "language_info": {
   "codemirror_mode": {
    "name": "ipython",
    "version": 2
   },
   "file_extension": ".py",
   "mimetype": "text/x-python",
   "name": "python",
   "nbconvert_exporter": "python",
   "pygments_lexer": "ipython2",
   "version": "2.7.6"
  }
 },
 "nbformat": 4,
 "nbformat_minor": 0
}
