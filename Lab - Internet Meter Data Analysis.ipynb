{
 "cells": [
  {
   "cell_type": "code",
   "execution_count": null,
   "metadata": {
    "collapsed": true,
    "pycharm": {
     "is_executing": true
    }
   },
   "outputs": [],
   "source": [
    "!pip install speedtest-cli"
   ]
  },
  {
   "cell_type": "code",
   "execution_count": 1,
   "outputs": [],
   "source": [
    "import csv\n",
    "import subprocess\n",
    "import datetime\n",
    "import pandas as pd"
   ],
   "metadata": {
    "collapsed": false
   }
  },
  {
   "cell_type": "code",
   "execution_count": 2,
   "outputs": [
    {
     "name": "stdout",
     "output_type": "stream",
     "text": [
      "2022-12-08 17:39:51.307746 <class 'datetime.datetime'>\n"
     ]
    }
   ],
   "source": [
    "date_time = datetime.datetime.now()\n",
    "print(date_time, type(date_time))"
   ],
   "metadata": {
    "collapsed": false
   }
  },
  {
   "cell_type": "code",
   "execution_count": 3,
   "outputs": [
    {
     "data": {
      "text/plain": "'2022-12-08 17:39:51'"
     },
     "execution_count": 3,
     "metadata": {},
     "output_type": "execute_result"
    }
   ],
   "source": [
    "date_time.strftime('%Y-%m-%d %H:%M:%S')"
   ],
   "metadata": {
    "collapsed": false
   }
  },
  {
   "cell_type": "code",
   "execution_count": 4,
   "outputs": [],
   "source": [
    "speedtest_cmd = 'speedtest-cli --simple'\n",
    "process = subprocess.Popen(speedtest_cmd.split(), stdout=subprocess.PIPE)\n",
    "process_output = process.communicate()[0]"
   ],
   "metadata": {
    "collapsed": false
   }
  },
  {
   "cell_type": "code",
   "execution_count": 5,
   "outputs": [
    {
     "name": "stdout",
     "output_type": "stream",
     "text": [
      "b'Ping: 26.259 ms\\r\\nDownload: 50.77 Mbit/s\\r\\nUpload: 36.22 Mbit/s\\r\\n' <class 'bytes'>\n"
     ]
    }
   ],
   "source": [
    "print(process_output, type(process_output))"
   ],
   "metadata": {
    "collapsed": false
   }
  },
  {
   "cell_type": "code",
   "execution_count": 6,
   "outputs": [
    {
     "name": "stdout",
     "output_type": "stream",
     "text": [
      "[b'Ping:', b'26.259', b'ms', b'Download:', b'50.77', b'Mbit/s', b'Upload:', b'36.22', b'Mbit/s', '2022-12-08 17:41:06'] <class 'list'>\n"
     ]
    }
   ],
   "source": [
    "date_time = datetime.datetime.now().strftime('%Y-%m-%d %H:%M:%S')\n",
    "process_output = process_output.split()\n",
    "process_output.append(date_time)\n",
    "print(process_output, type(process_output))"
   ],
   "metadata": {
    "collapsed": false
   }
  },
  {
   "cell_type": "code",
   "execution_count": 7,
   "outputs": [],
   "source": [
    "def speedtest():\n",
    "    date_time = datetime.datetime.now().strftime('%Y-%m-%d %H:%M:%S')\n",
    "    speedtest_cmd = 'speedtest-cli --simple'\n",
    "    process = subprocess.Popen(speedtest_cmd.split(), stdout=subprocess.PIPE)\n",
    "    process_output = process.communicate()[0].decode('UTF-8')\n",
    "    process_output = process_output.split()\n",
    "    process_output.append(date_time)\n",
    "    return process_output"
   ],
   "metadata": {
    "collapsed": false
   }
  },
  {
   "cell_type": "code",
   "execution_count": 8,
   "outputs": [
    {
     "name": "stdout",
     "output_type": "stream",
     "text": [
      "['Ping:', '38.535', 'ms', 'Download:', '38.02', 'Mbit/s', 'Upload:', '34.98', 'Mbit/s', '2022-12-08 17:41:18']\n"
     ]
    }
   ],
   "source": [
    "print(speedtest())"
   ],
   "metadata": {
    "collapsed": false
   }
  },
  {
   "cell_type": "code",
   "execution_count": 9,
   "outputs": [],
   "source": [
    "with open('test.txt', 'w') as f:\n",
    "    f.write('test.msg')"
   ],
   "metadata": {
    "collapsed": false
   }
  },
  {
   "cell_type": "code",
   "execution_count": 10,
   "outputs": [
    {
     "name": "stdout",
     "output_type": "stream",
     "text": [
      "test.msg\n"
     ]
    }
   ],
   "source": [
    "with open('test.txt', 'r') as f:\n",
    "    st = f.read()\n",
    "print(st)"
   ],
   "metadata": {
    "collapsed": false
   }
  },
  {
   "cell_type": "code",
   "execution_count": 11,
   "outputs": [],
   "source": [
    "def save_to_csv(data, filename):\n",
    "    try:\n",
    "        with open(f'{filename}.csv', 'a') as f:\n",
    "            wr = csv.writer(f)\n",
    "            wr.writerow(data)\n",
    "        f.close()\n",
    "    except:\n",
    "        with open(f'{filename}.csv', 'w') as f:\n",
    "            wr = csv.writer(f)\n",
    "            wr.writerow(data)\n",
    "        f.close()"
   ],
   "metadata": {
    "collapsed": false
   }
  },
  {
   "cell_type": "code",
   "execution_count": 12,
   "outputs": [],
   "source": [
    "def print_from_csv(filename):\n",
    "    with open(f'{filename}.csv', 'r') as f:\n",
    "        rd = csv.reader(f)\n",
    "        for i in rd:\n",
    "            print(i)\n",
    "    f.close()"
   ],
   "metadata": {
    "collapsed": false
   }
  },
  {
   "cell_type": "code",
   "execution_count": 13,
   "outputs": [
    {
     "name": "stdout",
     "output_type": "stream",
     "text": [
      "Test number 1\n",
      "['Ping:', '49.363', 'ms', 'Download:', '17.89', 'Mbit/s', 'Upload:', '14.31', 'Mbit/s', '2022-12-08 17:42:09']\n",
      "Test number 2\n",
      "['Ping:', '21.903', 'ms', 'Download:', '33.49', 'Mbit/s', 'Upload:', '35.83', 'Mbit/s', '2022-12-08 17:42:46']\n",
      "Test number 3\n",
      "['Ping:', '27.06', 'ms', 'Download:', '40.33', 'Mbit/s', 'Upload:', '36.01', 'Mbit/s', '2022-12-08 17:43:17']\n",
      "Test number 4\n",
      "['Ping:', '22.474', 'ms', 'Download:', '33.03', 'Mbit/s', 'Upload:', '36.31', 'Mbit/s', '2022-12-08 17:43:47']\n",
      "Test number 5\n",
      "['Ping:', '22.983', 'ms', 'Download:', '18.78', 'Mbit/s', 'Upload:', '36.46', 'Mbit/s', '2022-12-08 17:44:17']\n",
      "Test number 6\n",
      "['Ping:', '17.87', 'ms', 'Download:', '36.51', 'Mbit/s', 'Upload:', '35.94', 'Mbit/s', '2022-12-08 17:44:47']\n",
      "Test number 7\n",
      "['Ping:', '22.911', 'ms', 'Download:', '29.10', 'Mbit/s', 'Upload:', '28.28', 'Mbit/s', '2022-12-08 17:45:18']\n",
      "Test number 8\n",
      "['Ping:', '29.255', 'ms', 'Download:', '45.87', 'Mbit/s', 'Upload:', '36.16', 'Mbit/s', '2022-12-08 17:45:48']\n",
      "Test number 9\n",
      "['Ping:', '15.431', 'ms', 'Download:', '21.89', 'Mbit/s', 'Upload:', '35.14', 'Mbit/s', '2022-12-08 17:46:19']\n",
      "Test number 10\n",
      "['Ping:', '22.083', 'ms', 'Download:', '42.06', 'Mbit/s', 'Upload:', '36.86', 'Mbit/s', '2022-12-08 17:46:49']\n",
      "Test number 11\n",
      "['Ping:', '23.287', 'ms', 'Download:', '48.13', 'Mbit/s', 'Upload:', '37.29', 'Mbit/s', '2022-12-08 17:47:19']\n",
      "Test number 12\n",
      "['Ping:', '15.649', 'ms', 'Download:', '54.37', 'Mbit/s', 'Upload:', '36.66', 'Mbit/s', '2022-12-08 17:47:49']\n",
      "Test number 13\n",
      "['Ping:', '15.697', 'ms', 'Download:', '46.47', 'Mbit/s', 'Upload:', '36.52', 'Mbit/s', '2022-12-08 17:48:19']\n",
      "Test number 14\n",
      "['Ping:', '24.592', 'ms', 'Download:', '44.23', 'Mbit/s', 'Upload:', '36.50', 'Mbit/s', '2022-12-08 17:48:49']\n",
      "Test number 15\n",
      "['Ping:', '15.775', 'ms', 'Download:', '54.75', 'Mbit/s', 'Upload:', '36.37', 'Mbit/s', '2022-12-08 17:49:19']\n",
      "Test number 16\n",
      "['Ping:', '39.759', 'ms', 'Download:', '44.45', 'Mbit/s', 'Upload:', '36.20', 'Mbit/s', '2022-12-08 17:49:49']\n",
      "Test number 17\n",
      "['Ping:', '31.45', 'ms', 'Download:', '47.21', 'Mbit/s', 'Upload:', '36.67', 'Mbit/s', '2022-12-08 17:50:19']\n",
      "Test number 18\n",
      "['Ping:', '31.085', 'ms', 'Download:', '28.82', 'Mbit/s', 'Upload:', '36.92', 'Mbit/s', '2022-12-08 17:50:49']\n",
      "Test number 19\n",
      "['Ping:', '26.755', 'ms', 'Download:', '44.12', 'Mbit/s', 'Upload:', '34.18', 'Mbit/s', '2022-12-08 17:51:19']\n",
      "Test number 20\n",
      "['Ping:', '21.302', 'ms', 'Download:', '47.57', 'Mbit/s', 'Upload:', '36.63', 'Mbit/s', '2022-12-08 17:51:50']\n",
      "Test number 21\n",
      "['Ping:', '20.214', 'ms', 'Download:', '30.08', 'Mbit/s', 'Upload:', '36.17', 'Mbit/s', '2022-12-08 17:52:20']\n",
      "Test number 22\n",
      "['Ping:', '21.218', 'ms', 'Download:', '27.32', 'Mbit/s', 'Upload:', '36.04', 'Mbit/s', '2022-12-08 17:52:51']\n",
      "Test number 23\n",
      "['Ping:', '17.585', 'ms', 'Download:', '37.34', 'Mbit/s', 'Upload:', '37.36', 'Mbit/s', '2022-12-08 17:53:21']\n",
      "Test number 24\n",
      "['Ping:', '24.392', 'ms', 'Download:', '36.19', 'Mbit/s', 'Upload:', '36.37', 'Mbit/s', '2022-12-08 17:53:51']\n",
      "Test number 25\n",
      "['Ping:', '15.01', 'ms', 'Download:', '39.41', 'Mbit/s', 'Upload:', '36.51', 'Mbit/s', '2022-12-08 17:54:21']\n",
      "Test number 26\n",
      "['Ping:', '16.413', 'ms', 'Download:', '30.06', 'Mbit/s', 'Upload:', '36.81', 'Mbit/s', '2022-12-08 17:54:51']\n",
      "Test number 27\n",
      "['Ping:', '21.391', 'ms', 'Download:', '46.35', 'Mbit/s', 'Upload:', '37.07', 'Mbit/s', '2022-12-08 17:55:21']\n",
      "Test number 28\n",
      "['Ping:', '13.074', 'ms', 'Download:', '35.26', 'Mbit/s', 'Upload:', '34.64', 'Mbit/s', '2022-12-08 17:55:52']\n",
      "Test number 29\n",
      "['Ping:', '30.094', 'ms', 'Download:', '32.55', 'Mbit/s', 'Upload:', '35.81', 'Mbit/s', '2022-12-08 17:56:22']\n",
      "Test number 30\n",
      "['Ping:', '25.604', 'ms', 'Download:', '45.70', 'Mbit/s', 'Upload:', '36.51', 'Mbit/s', '2022-12-08 17:56:53']\n",
      "Test number 31\n",
      "['Ping:', '27.936', 'ms', 'Download:', '51.22', 'Mbit/s', 'Upload:', '36.30', 'Mbit/s', '2022-12-08 17:57:23']\n",
      "Test number 32\n",
      "['Ping:', '40.842', 'ms', 'Download:', '38.95', 'Mbit/s', 'Upload:', '33.90', 'Mbit/s', '2022-12-08 17:57:54']\n",
      "Test number 33\n",
      "['Ping:', '37.389', 'ms', 'Download:', '36.67', 'Mbit/s', 'Upload:', '36.48', 'Mbit/s', '2022-12-08 17:58:25']\n",
      "Test number 34\n",
      "['Ping:', '27.981', 'ms', 'Download:', '31.50', 'Mbit/s', 'Upload:', '37.04', 'Mbit/s', '2022-12-08 17:58:55']\n",
      "Test number 35\n",
      "['Ping:', '26.991', 'ms', 'Download:', '29.77', 'Mbit/s', 'Upload:', '36.03', 'Mbit/s', '2022-12-08 17:59:25']\n",
      "Test number 36\n",
      "['Ping:', '34.654', 'ms', 'Download:', '47.48', 'Mbit/s', 'Upload:', '37.00', 'Mbit/s', '2022-12-08 17:59:57']\n",
      "Test number 37\n",
      "['Ping:', '35.06', 'ms', 'Download:', '49.14', 'Mbit/s', 'Upload:', '35.93', 'Mbit/s', '2022-12-08 18:00:27']\n",
      "Test number 38\n",
      "['Ping:', '38.868', 'ms', 'Download:', '36.06', 'Mbit/s', 'Upload:', '36.34', 'Mbit/s', '2022-12-08 18:00:58']\n",
      "Test number 39\n",
      "['Ping:', '36.95', 'ms', 'Download:', '37.35', 'Mbit/s', 'Upload:', '35.92', 'Mbit/s', '2022-12-08 18:01:29']\n",
      "Test number 40\n",
      "['Ping:', '24.095', 'ms', 'Download:', '42.20', 'Mbit/s', 'Upload:', '32.11', 'Mbit/s', '2022-12-08 18:01:59']\n",
      "Test number 41\n",
      "['Ping:', '40.17', 'ms', 'Download:', '32.96', 'Mbit/s', 'Upload:', '35.09', 'Mbit/s', '2022-12-08 18:02:30']\n",
      "Test number 42\n",
      "['Ping:', '37.908', 'ms', 'Download:', '12.56', 'Mbit/s', 'Upload:', '13.46', 'Mbit/s', '2022-12-08 18:03:01']\n",
      "Test number 43\n",
      "['Ping:', '26.727', 'ms', 'Download:', '36.81', 'Mbit/s', 'Upload:', '36.34', 'Mbit/s', '2022-12-08 18:03:35']\n",
      "Test number 44\n",
      "['Ping:', '32.581', 'ms', 'Download:', '54.67', 'Mbit/s', 'Upload:', '35.93', 'Mbit/s', '2022-12-08 18:04:06']\n",
      "Test number 45\n",
      "['Ping:', '38.181', 'ms', 'Download:', '38.93', 'Mbit/s', 'Upload:', '27.19', 'Mbit/s', '2022-12-08 18:04:37']\n",
      "Test number 46\n",
      "['Ping:', '28.373', 'ms', 'Download:', '38.56', 'Mbit/s', 'Upload:', '31.90', 'Mbit/s', '2022-12-08 18:05:07']\n",
      "Test number 47\n",
      "['Ping:', '33.706', 'ms', 'Download:', '43.99', 'Mbit/s', 'Upload:', '36.10', 'Mbit/s', '2022-12-08 18:05:37']\n",
      "Test number 48\n",
      "['Ping:', '30.008', 'ms', 'Download:', '49.69', 'Mbit/s', 'Upload:', '31.22', 'Mbit/s', '2022-12-08 18:06:10']\n",
      "Test number 49\n",
      "['Ping:', '31.638', 'ms', 'Download:', '52.28', 'Mbit/s', 'Upload:', '32.55', 'Mbit/s', '2022-12-08 18:06:40']\n",
      "Test number 50\n",
      "['Ping:', '31.847', 'ms', 'Download:', '26.25', 'Mbit/s', 'Upload:', '36.51', 'Mbit/s', '2022-12-08 18:07:10']\n",
      "Test number 51\n",
      "['Ping:', '29.649', 'ms', 'Download:', '47.34', 'Mbit/s', 'Upload:', '36.55', 'Mbit/s', '2022-12-08 18:07:41']\n",
      "Test number 52\n",
      "['Ping:', '52.992', 'ms', 'Download:', '37.34', 'Mbit/s', 'Upload:', '36.38', 'Mbit/s', '2022-12-08 18:08:14']\n",
      "Test number 53\n",
      "['Ping:', '32.571', 'ms', 'Download:', '23.35', 'Mbit/s', 'Upload:', '35.82', 'Mbit/s', '2022-12-08 18:08:45']\n",
      "Test number 54\n",
      "['Ping:', '26.135', 'ms', 'Download:', '39.91', 'Mbit/s', 'Upload:', '36.15', 'Mbit/s', '2022-12-08 18:09:17']\n",
      "Test number 55\n",
      "['Ping:', '37.688', 'ms', 'Download:', '28.59', 'Mbit/s', 'Upload:', '35.21', 'Mbit/s', '2022-12-08 18:09:48']\n",
      "Test number 56\n",
      "['Ping:', '53.654', 'ms', 'Download:', '19.29', 'Mbit/s', 'Upload:', '13.38', 'Mbit/s', '2022-12-08 18:10:18']\n",
      "Test number 57\n",
      "['Ping:', '37.401', 'ms', 'Download:', '31.00', 'Mbit/s', 'Upload:', '35.30', 'Mbit/s', '2022-12-08 18:10:49']\n",
      "Test number 58\n",
      "['Ping:', '32.899', 'ms', 'Download:', '22.87', 'Mbit/s', 'Upload:', '35.40', 'Mbit/s', '2022-12-08 18:11:20']\n",
      "Test number 59\n",
      "['Ping:', '39.33', 'ms', 'Download:', '38.81', 'Mbit/s', 'Upload:', '35.74', 'Mbit/s', '2022-12-08 18:11:50']\n",
      "Test number 60\n",
      "['Ping:', '33.668', 'ms', 'Download:', '49.42', 'Mbit/s', 'Upload:', '32.70', 'Mbit/s', '2022-12-08 18:12:21']\n",
      "Test number 61\n",
      "['Ping:', '17.69', 'ms', 'Download:', '24.20', 'Mbit/s', 'Upload:', '32.68', 'Mbit/s', '2022-12-08 18:12:51']\n",
      "Test number 62\n",
      "['Ping:', '18.355', 'ms', 'Download:', '34.10', 'Mbit/s', 'Upload:', '35.78', 'Mbit/s', '2022-12-08 18:13:21']\n",
      "Test number 63\n",
      "['Ping:', '14.924', 'ms', 'Download:', '25.71', 'Mbit/s', 'Upload:', '35.21', 'Mbit/s', '2022-12-08 18:13:51']\n",
      "Test number 64\n",
      "['Ping:', '17.604', 'ms', 'Download:', '18.42', 'Mbit/s', 'Upload:', '34.77', 'Mbit/s', '2022-12-08 18:14:28']\n",
      "Test number 65\n",
      "['Ping:', '25.958', 'ms', 'Download:', '22.66', 'Mbit/s', 'Upload:', '32.58', 'Mbit/s', '2022-12-08 18:14:59']\n",
      "Test number 66\n",
      "['Ping:', '18.966', 'ms', 'Download:', '17.91', 'Mbit/s', 'Upload:', '36.14', 'Mbit/s', '2022-12-08 18:15:30']\n",
      "Test number 67\n",
      "['Ping:', '13.822', 'ms', 'Download:', '24.52', 'Mbit/s', 'Upload:', '31.68', 'Mbit/s', '2022-12-08 18:16:03']\n",
      "Test number 68\n",
      "['Ping:', '20.144', 'ms', 'Download:', '33.80', 'Mbit/s', 'Upload:', '35.90', 'Mbit/s', '2022-12-08 18:16:35']\n",
      "Test number 69\n",
      "['Ping:', '23.288', 'ms', 'Download:', '29.90', 'Mbit/s', 'Upload:', '35.34', 'Mbit/s', '2022-12-08 18:17:05']\n",
      "Test number 70\n",
      "['Ping:', '29.283', 'ms', 'Download:', '32.48', 'Mbit/s', 'Upload:', '35.85', 'Mbit/s', '2022-12-08 18:17:36']\n",
      "Test number 71\n",
      "['Ping:', '24.838', 'ms', 'Download:', '22.17', 'Mbit/s', 'Upload:', '36.38', 'Mbit/s', '2022-12-08 18:18:07']\n",
      "Test number 72\n",
      "['Ping:', '26.262', 'ms', 'Download:', '21.42', 'Mbit/s', 'Upload:', '36.09', 'Mbit/s', '2022-12-08 18:18:38']\n",
      "Test number 73\n",
      "['Ping:', '27.369', 'ms', 'Download:', '31.84', 'Mbit/s', 'Upload:', '36.36', 'Mbit/s', '2022-12-08 18:19:08']\n",
      "Test number 74\n",
      "['Ping:', '13.581', 'ms', 'Download:', '29.27', 'Mbit/s', 'Upload:', '33.21', 'Mbit/s', '2022-12-08 18:19:38']\n",
      "Test number 75\n",
      "['Ping:', '14.471', 'ms', 'Download:', '36.43', 'Mbit/s', 'Upload:', '35.26', 'Mbit/s', '2022-12-08 18:20:12']\n",
      "Test number 76\n",
      "['Ping:', '24.384', 'ms', 'Download:', '32.94', 'Mbit/s', 'Upload:', '36.40', 'Mbit/s', '2022-12-08 18:20:43']\n",
      "Test number 77\n",
      "['Ping:', '16.589', 'ms', 'Download:', '35.61', 'Mbit/s', 'Upload:', '28.63', 'Mbit/s', '2022-12-08 18:21:13']\n",
      "Test number 78\n",
      "['Ping:', '22.05', 'ms', 'Download:', '45.84', 'Mbit/s', 'Upload:', '35.76', 'Mbit/s', '2022-12-08 18:21:45']\n",
      "Test number 79\n",
      "['Ping:', '13.878', 'ms', 'Download:', '30.24', 'Mbit/s', 'Upload:', '36.05', 'Mbit/s', '2022-12-08 18:22:15']\n",
      "Test number 80\n",
      "['Ping:', '17.301', 'ms', 'Download:', '46.82', 'Mbit/s', 'Upload:', '35.88', 'Mbit/s', '2022-12-08 18:22:45']\n",
      "Test number 81\n",
      "['Ping:', '28.699', 'ms', 'Download:', '42.42', 'Mbit/s', 'Upload:', '34.71', 'Mbit/s', '2022-12-08 18:23:15']\n",
      "Test number 82\n",
      "['Ping:', '17.548', 'ms', 'Download:', '53.70', 'Mbit/s', 'Upload:', '35.94', 'Mbit/s', '2022-12-08 18:23:44']\n",
      "Test number 83\n",
      "['Ping:', '16.865', 'ms', 'Download:', '46.32', 'Mbit/s', 'Upload:', '33.56', 'Mbit/s', '2022-12-08 18:24:14']\n",
      "Test number 84\n",
      "['Ping:', '15.479', 'ms', 'Download:', '54.48', 'Mbit/s', 'Upload:', '36.00', 'Mbit/s', '2022-12-08 18:24:45']\n",
      "Test number 85\n",
      "['Ping:', '16.983', 'ms', 'Download:', '59.55', 'Mbit/s', 'Upload:', '32.37', 'Mbit/s', '2022-12-08 18:25:14']\n",
      "Test number 86\n",
      "['Ping:', '13.189', 'ms', 'Download:', '48.36', 'Mbit/s', 'Upload:', '36.14', 'Mbit/s', '2022-12-08 18:25:44']\n",
      "Test number 87\n",
      "['Ping:', '28.792', 'ms', 'Download:', '52.20', 'Mbit/s', 'Upload:', '20.27', 'Mbit/s', '2022-12-08 18:26:14']\n",
      "Test number 88\n",
      "['Ping:', '26.121', 'ms', 'Download:', '53.55', 'Mbit/s', 'Upload:', '35.78', 'Mbit/s', '2022-12-08 18:26:44']\n",
      "Test number 89\n",
      "['Ping:', '26.35', 'ms', 'Download:', '57.86', 'Mbit/s', 'Upload:', '36.27', 'Mbit/s', '2022-12-08 18:27:15']\n",
      "Test number 90\n",
      "['Ping:', '38.374', 'ms', 'Download:', '28.03', 'Mbit/s', 'Upload:', '7.73', 'Mbit/s', '2022-12-08 18:27:46']\n",
      "Test number 91\n",
      "['Ping:', '34.558', 'ms', 'Download:', '54.18', 'Mbit/s', 'Upload:', '36.50', 'Mbit/s', '2022-12-08 18:28:17']\n",
      "Test number 92\n",
      "['Ping:', '37.624', 'ms', 'Download:', '22.30', 'Mbit/s', 'Upload:', '35.95', 'Mbit/s', '2022-12-08 18:28:48']\n",
      "Test number 93\n",
      "['Ping:', '26.83', 'ms', 'Download:', '47.52', 'Mbit/s', 'Upload:', '17.59', 'Mbit/s', '2022-12-08 18:29:18']\n",
      "Test number 94\n",
      "['Ping:', '46.156', 'ms', 'Download:', '50.12', 'Mbit/s', 'Upload:', '34.29', 'Mbit/s', '2022-12-08 18:29:49']\n",
      "Test number 95\n",
      "['Ping:', '30.434', 'ms', 'Download:', '35.43', 'Mbit/s', 'Upload:', '36.33', 'Mbit/s', '2022-12-08 18:30:20']\n",
      "Test number 96\n",
      "['Ping:', '30.206', 'ms', 'Download:', '43.12', 'Mbit/s', 'Upload:', '27.72', 'Mbit/s', '2022-12-08 18:30:50']\n",
      "Test number 97\n",
      "['Ping:', '36.26', 'ms', 'Download:', '46.59', 'Mbit/s', 'Upload:', '35.88', 'Mbit/s', '2022-12-08 18:31:21']\n",
      "Test number 98\n",
      "['Ping:', '34.487', 'ms', 'Download:', '51.43', 'Mbit/s', 'Upload:', '36.04', 'Mbit/s', '2022-12-08 18:31:51']\n",
      "Test number 99\n",
      "['Ping:', '31.842', 'ms', 'Download:', '39.83', 'Mbit/s', 'Upload:', '35.38', 'Mbit/s', '2022-12-08 18:32:21']\n",
      "Test number 100\n",
      "['Ping:', '20.812', 'ms', 'Download:', '39.26', 'Mbit/s', 'Upload:', '36.68', 'Mbit/s', '2022-12-08 18:32:52']\n"
     ]
    }
   ],
   "source": [
    "for i in range(100):\n",
    "    speedtest_output = speedtest()\n",
    "    print(f'Test number {i + 1}')\n",
    "    print(speedtest_output)\n",
    "    save_to_csv(speedtest_output, 'testSpeed')"
   ],
   "metadata": {
    "collapsed": false
   }
  },
  {
   "cell_type": "code",
   "execution_count": 14,
   "outputs": [
    {
     "name": "stdout",
     "output_type": "stream",
     "text": [
      "['Ping:', '22.759', 'ms', 'Download:', '19.04', 'Mbit/s', 'Upload:', '10.66', 'Mbit/s', '2022-12-03 22:45:16']\n",
      "[]\n",
      "['Ping:', '21.899', 'ms', 'Download:', '2.89', 'Mbit/s', 'Upload:', '10.27', 'Mbit/s', '2022-12-03 22:45:40']\n",
      "[]\n",
      "['Ping:', '19.681', 'ms', 'Download:', '15.65', 'Mbit/s', 'Upload:', '8.37', 'Mbit/s', '2022-12-03 22:46:08']\n",
      "[]\n",
      "['Ping:', '21.475', 'ms', 'Download:', '8.54', 'Mbit/s', 'Upload:', '5.69', 'Mbit/s', '2022-12-03 22:46:33']\n",
      "[]\n",
      "['Ping:', '20.522', 'ms', 'Download:', '16.18', 'Mbit/s', 'Upload:', '10.83', 'Mbit/s', '2022-12-03 22:46:56']\n",
      "[]\n",
      "['Ping:', '14.189', 'ms', 'Download:', '36.21', 'Mbit/s', 'Upload:', '30.69', 'Mbit/s', '2022-12-03 22:47:18']\n",
      "[]\n",
      "['Ping:', '22.41', 'ms', 'Download:', '21.61', 'Mbit/s', 'Upload:', '9.38', 'Mbit/s', '2022-12-03 22:47:40']\n",
      "[]\n",
      "['Ping:', '15.313', 'ms', 'Download:', '37.36', 'Mbit/s', 'Upload:', '25.40', 'Mbit/s', '2022-12-03 22:48:03']\n",
      "[]\n",
      "['Ping:', '11.337', 'ms', 'Download:', '11.79', 'Mbit/s', 'Upload:', '26.14', 'Mbit/s', '2022-12-03 22:48:25']\n",
      "[]\n",
      "['Ping:', '16.285', 'ms', 'Download:', '32.12', 'Mbit/s', 'Upload:', '26.61', 'Mbit/s', '2022-12-03 22:48:47']\n",
      "[]\n",
      "['Ping:', '15.331', 'ms', 'Download:', '43.71', 'Mbit/s', 'Upload:', '29.76', 'Mbit/s', '2022-12-03 22:49:08']\n",
      "[]\n",
      "['Ping:', '14.881', 'ms', 'Download:', '32.70', 'Mbit/s', 'Upload:', '32.08', 'Mbit/s', '2022-12-03 22:49:30']\n",
      "[]\n",
      "['Ping:', '18.027', 'ms', 'Download:', '43.98', 'Mbit/s', 'Upload:', '27.28', 'Mbit/s', '2022-12-03 22:49:52']\n",
      "[]\n",
      "['Ping:', '15.392', 'ms', 'Download:', '33.71', 'Mbit/s', 'Upload:', '22.05', 'Mbit/s', '2022-12-03 22:50:14']\n",
      "[]\n",
      "['Ping:', '11.501', 'ms', 'Download:', '40.25', 'Mbit/s', 'Upload:', '20.42', 'Mbit/s', '2022-12-03 22:50:36']\n",
      "[]\n",
      "['Ping:', '49.363', 'ms', 'Download:', '17.89', 'Mbit/s', 'Upload:', '14.31', 'Mbit/s', '2022-12-08 17:42:09']\n",
      "[]\n",
      "['Ping:', '21.903', 'ms', 'Download:', '33.49', 'Mbit/s', 'Upload:', '35.83', 'Mbit/s', '2022-12-08 17:42:46']\n",
      "[]\n",
      "['Ping:', '27.06', 'ms', 'Download:', '40.33', 'Mbit/s', 'Upload:', '36.01', 'Mbit/s', '2022-12-08 17:43:17']\n",
      "[]\n",
      "['Ping:', '22.474', 'ms', 'Download:', '33.03', 'Mbit/s', 'Upload:', '36.31', 'Mbit/s', '2022-12-08 17:43:47']\n",
      "[]\n",
      "['Ping:', '22.983', 'ms', 'Download:', '18.78', 'Mbit/s', 'Upload:', '36.46', 'Mbit/s', '2022-12-08 17:44:17']\n",
      "[]\n",
      "['Ping:', '17.87', 'ms', 'Download:', '36.51', 'Mbit/s', 'Upload:', '35.94', 'Mbit/s', '2022-12-08 17:44:47']\n",
      "[]\n",
      "['Ping:', '22.911', 'ms', 'Download:', '29.10', 'Mbit/s', 'Upload:', '28.28', 'Mbit/s', '2022-12-08 17:45:18']\n",
      "[]\n",
      "['Ping:', '29.255', 'ms', 'Download:', '45.87', 'Mbit/s', 'Upload:', '36.16', 'Mbit/s', '2022-12-08 17:45:48']\n",
      "[]\n",
      "['Ping:', '15.431', 'ms', 'Download:', '21.89', 'Mbit/s', 'Upload:', '35.14', 'Mbit/s', '2022-12-08 17:46:19']\n",
      "[]\n",
      "['Ping:', '22.083', 'ms', 'Download:', '42.06', 'Mbit/s', 'Upload:', '36.86', 'Mbit/s', '2022-12-08 17:46:49']\n",
      "[]\n",
      "['Ping:', '23.287', 'ms', 'Download:', '48.13', 'Mbit/s', 'Upload:', '37.29', 'Mbit/s', '2022-12-08 17:47:19']\n",
      "[]\n",
      "['Ping:', '15.649', 'ms', 'Download:', '54.37', 'Mbit/s', 'Upload:', '36.66', 'Mbit/s', '2022-12-08 17:47:49']\n",
      "[]\n",
      "['Ping:', '15.697', 'ms', 'Download:', '46.47', 'Mbit/s', 'Upload:', '36.52', 'Mbit/s', '2022-12-08 17:48:19']\n",
      "[]\n",
      "['Ping:', '24.592', 'ms', 'Download:', '44.23', 'Mbit/s', 'Upload:', '36.50', 'Mbit/s', '2022-12-08 17:48:49']\n",
      "[]\n",
      "['Ping:', '15.775', 'ms', 'Download:', '54.75', 'Mbit/s', 'Upload:', '36.37', 'Mbit/s', '2022-12-08 17:49:19']\n",
      "[]\n",
      "['Ping:', '39.759', 'ms', 'Download:', '44.45', 'Mbit/s', 'Upload:', '36.20', 'Mbit/s', '2022-12-08 17:49:49']\n",
      "[]\n",
      "['Ping:', '31.45', 'ms', 'Download:', '47.21', 'Mbit/s', 'Upload:', '36.67', 'Mbit/s', '2022-12-08 17:50:19']\n",
      "[]\n",
      "['Ping:', '31.085', 'ms', 'Download:', '28.82', 'Mbit/s', 'Upload:', '36.92', 'Mbit/s', '2022-12-08 17:50:49']\n",
      "[]\n",
      "['Ping:', '26.755', 'ms', 'Download:', '44.12', 'Mbit/s', 'Upload:', '34.18', 'Mbit/s', '2022-12-08 17:51:19']\n",
      "[]\n",
      "['Ping:', '21.302', 'ms', 'Download:', '47.57', 'Mbit/s', 'Upload:', '36.63', 'Mbit/s', '2022-12-08 17:51:50']\n",
      "[]\n",
      "['Ping:', '20.214', 'ms', 'Download:', '30.08', 'Mbit/s', 'Upload:', '36.17', 'Mbit/s', '2022-12-08 17:52:20']\n",
      "[]\n",
      "['Ping:', '21.218', 'ms', 'Download:', '27.32', 'Mbit/s', 'Upload:', '36.04', 'Mbit/s', '2022-12-08 17:52:51']\n",
      "[]\n",
      "['Ping:', '17.585', 'ms', 'Download:', '37.34', 'Mbit/s', 'Upload:', '37.36', 'Mbit/s', '2022-12-08 17:53:21']\n",
      "[]\n",
      "['Ping:', '24.392', 'ms', 'Download:', '36.19', 'Mbit/s', 'Upload:', '36.37', 'Mbit/s', '2022-12-08 17:53:51']\n",
      "[]\n",
      "['Ping:', '15.01', 'ms', 'Download:', '39.41', 'Mbit/s', 'Upload:', '36.51', 'Mbit/s', '2022-12-08 17:54:21']\n",
      "[]\n",
      "['Ping:', '16.413', 'ms', 'Download:', '30.06', 'Mbit/s', 'Upload:', '36.81', 'Mbit/s', '2022-12-08 17:54:51']\n",
      "[]\n",
      "['Ping:', '21.391', 'ms', 'Download:', '46.35', 'Mbit/s', 'Upload:', '37.07', 'Mbit/s', '2022-12-08 17:55:21']\n",
      "[]\n",
      "['Ping:', '13.074', 'ms', 'Download:', '35.26', 'Mbit/s', 'Upload:', '34.64', 'Mbit/s', '2022-12-08 17:55:52']\n",
      "[]\n",
      "['Ping:', '30.094', 'ms', 'Download:', '32.55', 'Mbit/s', 'Upload:', '35.81', 'Mbit/s', '2022-12-08 17:56:22']\n",
      "[]\n",
      "['Ping:', '25.604', 'ms', 'Download:', '45.70', 'Mbit/s', 'Upload:', '36.51', 'Mbit/s', '2022-12-08 17:56:53']\n",
      "[]\n",
      "['Ping:', '27.936', 'ms', 'Download:', '51.22', 'Mbit/s', 'Upload:', '36.30', 'Mbit/s', '2022-12-08 17:57:23']\n",
      "[]\n",
      "['Ping:', '40.842', 'ms', 'Download:', '38.95', 'Mbit/s', 'Upload:', '33.90', 'Mbit/s', '2022-12-08 17:57:54']\n",
      "[]\n",
      "['Ping:', '37.389', 'ms', 'Download:', '36.67', 'Mbit/s', 'Upload:', '36.48', 'Mbit/s', '2022-12-08 17:58:25']\n",
      "[]\n",
      "['Ping:', '27.981', 'ms', 'Download:', '31.50', 'Mbit/s', 'Upload:', '37.04', 'Mbit/s', '2022-12-08 17:58:55']\n",
      "[]\n",
      "['Ping:', '26.991', 'ms', 'Download:', '29.77', 'Mbit/s', 'Upload:', '36.03', 'Mbit/s', '2022-12-08 17:59:25']\n",
      "[]\n",
      "['Ping:', '34.654', 'ms', 'Download:', '47.48', 'Mbit/s', 'Upload:', '37.00', 'Mbit/s', '2022-12-08 17:59:57']\n",
      "[]\n",
      "['Ping:', '35.06', 'ms', 'Download:', '49.14', 'Mbit/s', 'Upload:', '35.93', 'Mbit/s', '2022-12-08 18:00:27']\n",
      "[]\n",
      "['Ping:', '38.868', 'ms', 'Download:', '36.06', 'Mbit/s', 'Upload:', '36.34', 'Mbit/s', '2022-12-08 18:00:58']\n",
      "[]\n",
      "['Ping:', '36.95', 'ms', 'Download:', '37.35', 'Mbit/s', 'Upload:', '35.92', 'Mbit/s', '2022-12-08 18:01:29']\n",
      "[]\n",
      "['Ping:', '24.095', 'ms', 'Download:', '42.20', 'Mbit/s', 'Upload:', '32.11', 'Mbit/s', '2022-12-08 18:01:59']\n",
      "[]\n",
      "['Ping:', '40.17', 'ms', 'Download:', '32.96', 'Mbit/s', 'Upload:', '35.09', 'Mbit/s', '2022-12-08 18:02:30']\n",
      "[]\n",
      "['Ping:', '37.908', 'ms', 'Download:', '12.56', 'Mbit/s', 'Upload:', '13.46', 'Mbit/s', '2022-12-08 18:03:01']\n",
      "[]\n",
      "['Ping:', '26.727', 'ms', 'Download:', '36.81', 'Mbit/s', 'Upload:', '36.34', 'Mbit/s', '2022-12-08 18:03:35']\n",
      "[]\n",
      "['Ping:', '32.581', 'ms', 'Download:', '54.67', 'Mbit/s', 'Upload:', '35.93', 'Mbit/s', '2022-12-08 18:04:06']\n",
      "[]\n",
      "['Ping:', '38.181', 'ms', 'Download:', '38.93', 'Mbit/s', 'Upload:', '27.19', 'Mbit/s', '2022-12-08 18:04:37']\n",
      "[]\n",
      "['Ping:', '28.373', 'ms', 'Download:', '38.56', 'Mbit/s', 'Upload:', '31.90', 'Mbit/s', '2022-12-08 18:05:07']\n",
      "[]\n",
      "['Ping:', '33.706', 'ms', 'Download:', '43.99', 'Mbit/s', 'Upload:', '36.10', 'Mbit/s', '2022-12-08 18:05:37']\n",
      "[]\n",
      "['Ping:', '30.008', 'ms', 'Download:', '49.69', 'Mbit/s', 'Upload:', '31.22', 'Mbit/s', '2022-12-08 18:06:10']\n",
      "[]\n",
      "['Ping:', '31.638', 'ms', 'Download:', '52.28', 'Mbit/s', 'Upload:', '32.55', 'Mbit/s', '2022-12-08 18:06:40']\n",
      "[]\n",
      "['Ping:', '31.847', 'ms', 'Download:', '26.25', 'Mbit/s', 'Upload:', '36.51', 'Mbit/s', '2022-12-08 18:07:10']\n",
      "[]\n",
      "['Ping:', '29.649', 'ms', 'Download:', '47.34', 'Mbit/s', 'Upload:', '36.55', 'Mbit/s', '2022-12-08 18:07:41']\n",
      "[]\n",
      "['Ping:', '52.992', 'ms', 'Download:', '37.34', 'Mbit/s', 'Upload:', '36.38', 'Mbit/s', '2022-12-08 18:08:14']\n",
      "[]\n",
      "['Ping:', '32.571', 'ms', 'Download:', '23.35', 'Mbit/s', 'Upload:', '35.82', 'Mbit/s', '2022-12-08 18:08:45']\n",
      "[]\n",
      "['Ping:', '26.135', 'ms', 'Download:', '39.91', 'Mbit/s', 'Upload:', '36.15', 'Mbit/s', '2022-12-08 18:09:17']\n",
      "[]\n",
      "['Ping:', '37.688', 'ms', 'Download:', '28.59', 'Mbit/s', 'Upload:', '35.21', 'Mbit/s', '2022-12-08 18:09:48']\n",
      "[]\n",
      "['Ping:', '53.654', 'ms', 'Download:', '19.29', 'Mbit/s', 'Upload:', '13.38', 'Mbit/s', '2022-12-08 18:10:18']\n",
      "[]\n",
      "['Ping:', '37.401', 'ms', 'Download:', '31.00', 'Mbit/s', 'Upload:', '35.30', 'Mbit/s', '2022-12-08 18:10:49']\n",
      "[]\n",
      "['Ping:', '32.899', 'ms', 'Download:', '22.87', 'Mbit/s', 'Upload:', '35.40', 'Mbit/s', '2022-12-08 18:11:20']\n",
      "[]\n",
      "['Ping:', '39.33', 'ms', 'Download:', '38.81', 'Mbit/s', 'Upload:', '35.74', 'Mbit/s', '2022-12-08 18:11:50']\n",
      "[]\n",
      "['Ping:', '33.668', 'ms', 'Download:', '49.42', 'Mbit/s', 'Upload:', '32.70', 'Mbit/s', '2022-12-08 18:12:21']\n",
      "[]\n",
      "['Ping:', '17.69', 'ms', 'Download:', '24.20', 'Mbit/s', 'Upload:', '32.68', 'Mbit/s', '2022-12-08 18:12:51']\n",
      "[]\n",
      "['Ping:', '18.355', 'ms', 'Download:', '34.10', 'Mbit/s', 'Upload:', '35.78', 'Mbit/s', '2022-12-08 18:13:21']\n",
      "[]\n",
      "['Ping:', '14.924', 'ms', 'Download:', '25.71', 'Mbit/s', 'Upload:', '35.21', 'Mbit/s', '2022-12-08 18:13:51']\n",
      "[]\n",
      "['Ping:', '17.604', 'ms', 'Download:', '18.42', 'Mbit/s', 'Upload:', '34.77', 'Mbit/s', '2022-12-08 18:14:28']\n",
      "[]\n",
      "['Ping:', '25.958', 'ms', 'Download:', '22.66', 'Mbit/s', 'Upload:', '32.58', 'Mbit/s', '2022-12-08 18:14:59']\n",
      "[]\n",
      "['Ping:', '18.966', 'ms', 'Download:', '17.91', 'Mbit/s', 'Upload:', '36.14', 'Mbit/s', '2022-12-08 18:15:30']\n",
      "[]\n",
      "['Ping:', '13.822', 'ms', 'Download:', '24.52', 'Mbit/s', 'Upload:', '31.68', 'Mbit/s', '2022-12-08 18:16:03']\n",
      "[]\n",
      "['Ping:', '20.144', 'ms', 'Download:', '33.80', 'Mbit/s', 'Upload:', '35.90', 'Mbit/s', '2022-12-08 18:16:35']\n",
      "[]\n",
      "['Ping:', '23.288', 'ms', 'Download:', '29.90', 'Mbit/s', 'Upload:', '35.34', 'Mbit/s', '2022-12-08 18:17:05']\n",
      "[]\n",
      "['Ping:', '29.283', 'ms', 'Download:', '32.48', 'Mbit/s', 'Upload:', '35.85', 'Mbit/s', '2022-12-08 18:17:36']\n",
      "[]\n",
      "['Ping:', '24.838', 'ms', 'Download:', '22.17', 'Mbit/s', 'Upload:', '36.38', 'Mbit/s', '2022-12-08 18:18:07']\n",
      "[]\n",
      "['Ping:', '26.262', 'ms', 'Download:', '21.42', 'Mbit/s', 'Upload:', '36.09', 'Mbit/s', '2022-12-08 18:18:38']\n",
      "[]\n",
      "['Ping:', '27.369', 'ms', 'Download:', '31.84', 'Mbit/s', 'Upload:', '36.36', 'Mbit/s', '2022-12-08 18:19:08']\n",
      "[]\n",
      "['Ping:', '13.581', 'ms', 'Download:', '29.27', 'Mbit/s', 'Upload:', '33.21', 'Mbit/s', '2022-12-08 18:19:38']\n",
      "[]\n",
      "['Ping:', '14.471', 'ms', 'Download:', '36.43', 'Mbit/s', 'Upload:', '35.26', 'Mbit/s', '2022-12-08 18:20:12']\n",
      "[]\n",
      "['Ping:', '24.384', 'ms', 'Download:', '32.94', 'Mbit/s', 'Upload:', '36.40', 'Mbit/s', '2022-12-08 18:20:43']\n",
      "[]\n",
      "['Ping:', '16.589', 'ms', 'Download:', '35.61', 'Mbit/s', 'Upload:', '28.63', 'Mbit/s', '2022-12-08 18:21:13']\n",
      "[]\n",
      "['Ping:', '22.05', 'ms', 'Download:', '45.84', 'Mbit/s', 'Upload:', '35.76', 'Mbit/s', '2022-12-08 18:21:45']\n",
      "[]\n",
      "['Ping:', '13.878', 'ms', 'Download:', '30.24', 'Mbit/s', 'Upload:', '36.05', 'Mbit/s', '2022-12-08 18:22:15']\n",
      "[]\n",
      "['Ping:', '17.301', 'ms', 'Download:', '46.82', 'Mbit/s', 'Upload:', '35.88', 'Mbit/s', '2022-12-08 18:22:45']\n",
      "[]\n",
      "['Ping:', '28.699', 'ms', 'Download:', '42.42', 'Mbit/s', 'Upload:', '34.71', 'Mbit/s', '2022-12-08 18:23:15']\n",
      "[]\n",
      "['Ping:', '17.548', 'ms', 'Download:', '53.70', 'Mbit/s', 'Upload:', '35.94', 'Mbit/s', '2022-12-08 18:23:44']\n",
      "[]\n",
      "['Ping:', '16.865', 'ms', 'Download:', '46.32', 'Mbit/s', 'Upload:', '33.56', 'Mbit/s', '2022-12-08 18:24:14']\n",
      "[]\n",
      "['Ping:', '15.479', 'ms', 'Download:', '54.48', 'Mbit/s', 'Upload:', '36.00', 'Mbit/s', '2022-12-08 18:24:45']\n",
      "[]\n",
      "['Ping:', '16.983', 'ms', 'Download:', '59.55', 'Mbit/s', 'Upload:', '32.37', 'Mbit/s', '2022-12-08 18:25:14']\n",
      "[]\n",
      "['Ping:', '13.189', 'ms', 'Download:', '48.36', 'Mbit/s', 'Upload:', '36.14', 'Mbit/s', '2022-12-08 18:25:44']\n",
      "[]\n",
      "['Ping:', '28.792', 'ms', 'Download:', '52.20', 'Mbit/s', 'Upload:', '20.27', 'Mbit/s', '2022-12-08 18:26:14']\n",
      "[]\n",
      "['Ping:', '26.121', 'ms', 'Download:', '53.55', 'Mbit/s', 'Upload:', '35.78', 'Mbit/s', '2022-12-08 18:26:44']\n",
      "[]\n",
      "['Ping:', '26.35', 'ms', 'Download:', '57.86', 'Mbit/s', 'Upload:', '36.27', 'Mbit/s', '2022-12-08 18:27:15']\n",
      "[]\n",
      "['Ping:', '38.374', 'ms', 'Download:', '28.03', 'Mbit/s', 'Upload:', '7.73', 'Mbit/s', '2022-12-08 18:27:46']\n",
      "[]\n",
      "['Ping:', '34.558', 'ms', 'Download:', '54.18', 'Mbit/s', 'Upload:', '36.50', 'Mbit/s', '2022-12-08 18:28:17']\n",
      "[]\n",
      "['Ping:', '37.624', 'ms', 'Download:', '22.30', 'Mbit/s', 'Upload:', '35.95', 'Mbit/s', '2022-12-08 18:28:48']\n",
      "[]\n",
      "['Ping:', '26.83', 'ms', 'Download:', '47.52', 'Mbit/s', 'Upload:', '17.59', 'Mbit/s', '2022-12-08 18:29:18']\n",
      "[]\n",
      "['Ping:', '46.156', 'ms', 'Download:', '50.12', 'Mbit/s', 'Upload:', '34.29', 'Mbit/s', '2022-12-08 18:29:49']\n",
      "[]\n",
      "['Ping:', '30.434', 'ms', 'Download:', '35.43', 'Mbit/s', 'Upload:', '36.33', 'Mbit/s', '2022-12-08 18:30:20']\n",
      "[]\n",
      "['Ping:', '30.206', 'ms', 'Download:', '43.12', 'Mbit/s', 'Upload:', '27.72', 'Mbit/s', '2022-12-08 18:30:50']\n",
      "[]\n",
      "['Ping:', '36.26', 'ms', 'Download:', '46.59', 'Mbit/s', 'Upload:', '35.88', 'Mbit/s', '2022-12-08 18:31:21']\n",
      "[]\n",
      "['Ping:', '34.487', 'ms', 'Download:', '51.43', 'Mbit/s', 'Upload:', '36.04', 'Mbit/s', '2022-12-08 18:31:51']\n",
      "[]\n",
      "['Ping:', '31.842', 'ms', 'Download:', '39.83', 'Mbit/s', 'Upload:', '35.38', 'Mbit/s', '2022-12-08 18:32:21']\n",
      "[]\n",
      "['Ping:', '20.812', 'ms', 'Download:', '39.26', 'Mbit/s', 'Upload:', '36.68', 'Mbit/s', '2022-12-08 18:32:52']\n",
      "[]\n"
     ]
    }
   ],
   "source": [
    "print_from_csv('testSpeed')"
   ],
   "metadata": {
    "collapsed": false
   }
  },
  {
   "cell_type": "code",
   "execution_count": 15,
   "outputs": [],
   "source": [
    "data_file = 'testSpeed.csv'"
   ],
   "metadata": {
    "collapsed": false
   }
  },
  {
   "cell_type": "code",
   "execution_count": 16,
   "outputs": [],
   "source": [
    "column_names = ['Type A', 'Measure A', 'Units A', 'Type B', 'Measure B', 'Units B', 'Type C', 'Measure C', 'Units C', 'Datetime']"
   ],
   "metadata": {
    "collapsed": false
   }
  },
  {
   "cell_type": "code",
   "execution_count": 17,
   "outputs": [],
   "source": [
    "with open(data_file, 'r') as f:\n",
    "    df_redundant = pd.read_csv(f, names=column_names)"
   ],
   "metadata": {
    "collapsed": false
   }
  },
  {
   "cell_type": "code",
   "execution_count": 18,
   "outputs": [
    {
     "data": {
      "text/plain": "  Type A  Measure A Units A     Type B  Measure B Units B   Type C  Measure C  \\\n0  Ping:     22.759      ms  Download:      19.04  Mbit/s  Upload:      10.66   \n1  Ping:     21.899      ms  Download:       2.89  Mbit/s  Upload:      10.27   \n2  Ping:     19.681      ms  Download:      15.65  Mbit/s  Upload:       8.37   \n3  Ping:     21.475      ms  Download:       8.54  Mbit/s  Upload:       5.69   \n4  Ping:     20.522      ms  Download:      16.18  Mbit/s  Upload:      10.83   \n\n  Units C             Datetime  \n0  Mbit/s  2022-12-03 22:45:16  \n1  Mbit/s  2022-12-03 22:45:40  \n2  Mbit/s  2022-12-03 22:46:08  \n3  Mbit/s  2022-12-03 22:46:33  \n4  Mbit/s  2022-12-03 22:46:56  ",
      "text/html": "<div>\n<style scoped>\n    .dataframe tbody tr th:only-of-type {\n        vertical-align: middle;\n    }\n\n    .dataframe tbody tr th {\n        vertical-align: top;\n    }\n\n    .dataframe thead th {\n        text-align: right;\n    }\n</style>\n<table border=\"1\" class=\"dataframe\">\n  <thead>\n    <tr style=\"text-align: right;\">\n      <th></th>\n      <th>Type A</th>\n      <th>Measure A</th>\n      <th>Units A</th>\n      <th>Type B</th>\n      <th>Measure B</th>\n      <th>Units B</th>\n      <th>Type C</th>\n      <th>Measure C</th>\n      <th>Units C</th>\n      <th>Datetime</th>\n    </tr>\n  </thead>\n  <tbody>\n    <tr>\n      <th>0</th>\n      <td>Ping:</td>\n      <td>22.759</td>\n      <td>ms</td>\n      <td>Download:</td>\n      <td>19.04</td>\n      <td>Mbit/s</td>\n      <td>Upload:</td>\n      <td>10.66</td>\n      <td>Mbit/s</td>\n      <td>2022-12-03 22:45:16</td>\n    </tr>\n    <tr>\n      <th>1</th>\n      <td>Ping:</td>\n      <td>21.899</td>\n      <td>ms</td>\n      <td>Download:</td>\n      <td>2.89</td>\n      <td>Mbit/s</td>\n      <td>Upload:</td>\n      <td>10.27</td>\n      <td>Mbit/s</td>\n      <td>2022-12-03 22:45:40</td>\n    </tr>\n    <tr>\n      <th>2</th>\n      <td>Ping:</td>\n      <td>19.681</td>\n      <td>ms</td>\n      <td>Download:</td>\n      <td>15.65</td>\n      <td>Mbit/s</td>\n      <td>Upload:</td>\n      <td>8.37</td>\n      <td>Mbit/s</td>\n      <td>2022-12-03 22:46:08</td>\n    </tr>\n    <tr>\n      <th>3</th>\n      <td>Ping:</td>\n      <td>21.475</td>\n      <td>ms</td>\n      <td>Download:</td>\n      <td>8.54</td>\n      <td>Mbit/s</td>\n      <td>Upload:</td>\n      <td>5.69</td>\n      <td>Mbit/s</td>\n      <td>2022-12-03 22:46:33</td>\n    </tr>\n    <tr>\n      <th>4</th>\n      <td>Ping:</td>\n      <td>20.522</td>\n      <td>ms</td>\n      <td>Download:</td>\n      <td>16.18</td>\n      <td>Mbit/s</td>\n      <td>Upload:</td>\n      <td>10.83</td>\n      <td>Mbit/s</td>\n      <td>2022-12-03 22:46:56</td>\n    </tr>\n  </tbody>\n</table>\n</div>"
     },
     "execution_count": 18,
     "metadata": {},
     "output_type": "execute_result"
    }
   ],
   "source": [
    "df_redundant.head()"
   ],
   "metadata": {
    "collapsed": false
   }
  },
  {
   "cell_type": "code",
   "execution_count": 30,
   "outputs": [],
   "source": [
    "df_compact = df_redundant.copy()"
   ],
   "metadata": {
    "collapsed": false
   }
  },
  {
   "cell_type": "code",
   "execution_count": 31,
   "outputs": [],
   "source": [
    "df_compact.rename(columns={'Measure A': 'Ping (ms)',\n",
    "                           'Measure B': 'Download (Mbit/s)',\n",
    "                           'Measure C': 'Upload (Mbit/s)'}, inplace=True)"
   ],
   "metadata": {
    "collapsed": false
   }
  },
  {
   "cell_type": "code",
   "execution_count": 32,
   "outputs": [],
   "source": [
    "df_compact.drop(['Type A', 'Type B', 'Type C', 'Units A', 'Units B', 'Units C'], axis=1, inplace=True)\n"
   ],
   "metadata": {
    "collapsed": false
   }
  },
  {
   "cell_type": "code",
   "execution_count": 33,
   "outputs": [
    {
     "data": {
      "text/plain": "   Ping (ms)  Download (Mbit/s)  Upload (Mbit/s)             Datetime\n0     22.759              19.04            10.66  2022-12-03 22:45:16\n1     21.899               2.89            10.27  2022-12-03 22:45:40\n2     19.681              15.65             8.37  2022-12-03 22:46:08\n3     21.475               8.54             5.69  2022-12-03 22:46:33\n4     20.522              16.18            10.83  2022-12-03 22:46:56",
      "text/html": "<div>\n<style scoped>\n    .dataframe tbody tr th:only-of-type {\n        vertical-align: middle;\n    }\n\n    .dataframe tbody tr th {\n        vertical-align: top;\n    }\n\n    .dataframe thead th {\n        text-align: right;\n    }\n</style>\n<table border=\"1\" class=\"dataframe\">\n  <thead>\n    <tr style=\"text-align: right;\">\n      <th></th>\n      <th>Ping (ms)</th>\n      <th>Download (Mbit/s)</th>\n      <th>Upload (Mbit/s)</th>\n      <th>Datetime</th>\n    </tr>\n  </thead>\n  <tbody>\n    <tr>\n      <th>0</th>\n      <td>22.759</td>\n      <td>19.04</td>\n      <td>10.66</td>\n      <td>2022-12-03 22:45:16</td>\n    </tr>\n    <tr>\n      <th>1</th>\n      <td>21.899</td>\n      <td>2.89</td>\n      <td>10.27</td>\n      <td>2022-12-03 22:45:40</td>\n    </tr>\n    <tr>\n      <th>2</th>\n      <td>19.681</td>\n      <td>15.65</td>\n      <td>8.37</td>\n      <td>2022-12-03 22:46:08</td>\n    </tr>\n    <tr>\n      <th>3</th>\n      <td>21.475</td>\n      <td>8.54</td>\n      <td>5.69</td>\n      <td>2022-12-03 22:46:33</td>\n    </tr>\n    <tr>\n      <th>4</th>\n      <td>20.522</td>\n      <td>16.18</td>\n      <td>10.83</td>\n      <td>2022-12-03 22:46:56</td>\n    </tr>\n  </tbody>\n</table>\n</div>"
     },
     "execution_count": 33,
     "metadata": {},
     "output_type": "execute_result"
    }
   ],
   "source": [
    "df_compact.head()"
   ],
   "metadata": {
    "collapsed": false
   }
  },
  {
   "cell_type": "code",
   "execution_count": 34,
   "outputs": [],
   "source": [
    "df_compact['Date'] = df_compact['Datetime'].apply(lambda st: pd.to_datetime(st).date())\n",
    "df_compact['Time'] = df_compact['Datetime'].apply(lambda st: pd.to_datetime(st).time())"
   ],
   "metadata": {
    "collapsed": false
   }
  },
  {
   "cell_type": "code",
   "execution_count": 35,
   "outputs": [],
   "source": [
    "df_compact.drop('Datetime', axis=1, inplace=True)"
   ],
   "metadata": {
    "collapsed": false
   }
  },
  {
   "cell_type": "code",
   "execution_count": 36,
   "outputs": [
    {
     "data": {
      "text/plain": "   Ping (ms)  Download (Mbit/s)  Upload (Mbit/s)        Date      Time\n0     22.759              19.04            10.66  2022-12-03  22:45:16\n1     21.899               2.89            10.27  2022-12-03  22:45:40\n2     19.681              15.65             8.37  2022-12-03  22:46:08",
      "text/html": "<div>\n<style scoped>\n    .dataframe tbody tr th:only-of-type {\n        vertical-align: middle;\n    }\n\n    .dataframe tbody tr th {\n        vertical-align: top;\n    }\n\n    .dataframe thead th {\n        text-align: right;\n    }\n</style>\n<table border=\"1\" class=\"dataframe\">\n  <thead>\n    <tr style=\"text-align: right;\">\n      <th></th>\n      <th>Ping (ms)</th>\n      <th>Download (Mbit/s)</th>\n      <th>Upload (Mbit/s)</th>\n      <th>Date</th>\n      <th>Time</th>\n    </tr>\n  </thead>\n  <tbody>\n    <tr>\n      <th>0</th>\n      <td>22.759</td>\n      <td>19.04</td>\n      <td>10.66</td>\n      <td>2022-12-03</td>\n      <td>22:45:16</td>\n    </tr>\n    <tr>\n      <th>1</th>\n      <td>21.899</td>\n      <td>2.89</td>\n      <td>10.27</td>\n      <td>2022-12-03</td>\n      <td>22:45:40</td>\n    </tr>\n    <tr>\n      <th>2</th>\n      <td>19.681</td>\n      <td>15.65</td>\n      <td>8.37</td>\n      <td>2022-12-03</td>\n      <td>22:46:08</td>\n    </tr>\n  </tbody>\n</table>\n</div>"
     },
     "execution_count": 36,
     "metadata": {},
     "output_type": "execute_result"
    }
   ],
   "source": [
    "df_compact.head(3)"
   ],
   "metadata": {
    "collapsed": false
   }
  },
  {
   "cell_type": "code",
   "execution_count": 37,
   "outputs": [],
   "source": [
    "df_compact.to_csv('Datasets/rpi_data_compact.csv')"
   ],
   "metadata": {
    "collapsed": false
   }
  }
 ],
 "metadata": {
  "kernelspec": {
   "display_name": "Python 3",
   "language": "python",
   "name": "python3"
  },
  "language_info": {
   "codemirror_mode": {
    "name": "ipython",
    "version": 2
   },
   "file_extension": ".py",
   "mimetype": "text/x-python",
   "name": "python",
   "nbconvert_exporter": "python",
   "pygments_lexer": "ipython2",
   "version": "2.7.6"
  }
 },
 "nbformat": 4,
 "nbformat_minor": 0
}
