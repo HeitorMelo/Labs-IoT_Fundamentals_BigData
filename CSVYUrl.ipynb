{
 "cells": [
  {
   "cell_type": "code",
   "execution_count": 2,
   "metadata": {
    "collapsed": true
   },
   "outputs": [],
   "source": [
    "import numpy as np\n",
    "import pandas as pd"
   ]
  },
  {
   "cell_type": "code",
   "execution_count": 6,
   "outputs": [],
   "source": [
    "url = 'https://data.humdata.org/dataset/c01ed1c1-5356-4b5a-90e5-db3ac7e91877/resource/a4f08188-acdf-453a-9eb7-d209b3e9224f/download/private-sector_bra.csv'"
   ],
   "metadata": {
    "collapsed": false
   }
  },
  {
   "cell_type": "code",
   "execution_count": 7,
   "outputs": [],
   "source": [
    "from_url = pd.read_table(url, sep=',')"
   ],
   "metadata": {
    "collapsed": false
   }
  },
  {
   "cell_type": "code",
   "execution_count": 31,
   "outputs": [
    {
     "data": {
      "text/plain": "   Year                Indicator Name     Indicator Code             Value\n1  2021  Trade in services (% of GDP)  BG.GSR.NFSV.GD.ZS  5.18582004031785\n2  2020  Trade in services (% of GDP)  BG.GSR.NFSV.GD.ZS  5.39104317158194\n3  2019  Trade in services (% of GDP)  BG.GSR.NFSV.GD.ZS   5.5538628716248\n4  2018  Trade in services (% of GDP)  BG.GSR.NFSV.GD.ZS  5.56914413270738\n5  2017  Trade in services (% of GDP)  BG.GSR.NFSV.GD.ZS  5.19695078203875",
      "text/html": "<div>\n<style scoped>\n    .dataframe tbody tr th:only-of-type {\n        vertical-align: middle;\n    }\n\n    .dataframe tbody tr th {\n        vertical-align: top;\n    }\n\n    .dataframe thead th {\n        text-align: right;\n    }\n</style>\n<table border=\"1\" class=\"dataframe\">\n  <thead>\n    <tr style=\"text-align: right;\">\n      <th></th>\n      <th>Year</th>\n      <th>Indicator Name</th>\n      <th>Indicator Code</th>\n      <th>Value</th>\n    </tr>\n  </thead>\n  <tbody>\n    <tr>\n      <th>1</th>\n      <td>2021</td>\n      <td>Trade in services (% of GDP)</td>\n      <td>BG.GSR.NFSV.GD.ZS</td>\n      <td>5.18582004031785</td>\n    </tr>\n    <tr>\n      <th>2</th>\n      <td>2020</td>\n      <td>Trade in services (% of GDP)</td>\n      <td>BG.GSR.NFSV.GD.ZS</td>\n      <td>5.39104317158194</td>\n    </tr>\n    <tr>\n      <th>3</th>\n      <td>2019</td>\n      <td>Trade in services (% of GDP)</td>\n      <td>BG.GSR.NFSV.GD.ZS</td>\n      <td>5.5538628716248</td>\n    </tr>\n    <tr>\n      <th>4</th>\n      <td>2018</td>\n      <td>Trade in services (% of GDP)</td>\n      <td>BG.GSR.NFSV.GD.ZS</td>\n      <td>5.56914413270738</td>\n    </tr>\n    <tr>\n      <th>5</th>\n      <td>2017</td>\n      <td>Trade in services (% of GDP)</td>\n      <td>BG.GSR.NFSV.GD.ZS</td>\n      <td>5.19695078203875</td>\n    </tr>\n  </tbody>\n</table>\n</div>"
     },
     "execution_count": 31,
     "metadata": {},
     "output_type": "execute_result"
    }
   ],
   "source": [
    "from_url.head()"
   ],
   "metadata": {
    "collapsed": false
   }
  },
  {
   "cell_type": "code",
   "execution_count": null,
   "outputs": [],
   "source": [
    "data = {i:[] for i in np.unique(from_url['Indicator Name'])}"
   ],
   "metadata": {
    "collapsed": false,
    "pycharm": {
     "is_executing": true
    }
   }
  },
  {
   "cell_type": "code",
   "execution_count": 51,
   "outputs": [
    {
     "data": {
      "text/plain": "{'Year': {1: '2021',\n  2: '2020',\n  3: '2019',\n  4: '2018',\n  5: '2017',\n  6: '2016',\n  7: '2015',\n  8: '2014',\n  9: '2013',\n  10: '2012',\n  11: '2011',\n  12: '2010',\n  13: '2009',\n  14: '2008',\n  15: '2007',\n  16: '2006',\n  17: '2005',\n  18: '2004',\n  19: '2003',\n  20: '2002',\n  21: '2001',\n  22: '2000',\n  23: '1999',\n  24: '1998',\n  25: '1997',\n  26: '1996',\n  27: '1995',\n  28: '1994',\n  29: '1993',\n  30: '1992',\n  31: '1991',\n  32: '1990',\n  33: '1989',\n  34: '1988',\n  35: '1987',\n  36: '1986',\n  37: '1985',\n  38: '1984',\n  39: '1983',\n  40: '1982',\n  41: '1981',\n  42: '1980',\n  43: '1979',\n  44: '1978',\n  45: '1977',\n  46: '1976',\n  47: '1975'},\n 'Indicator Name': {1: 'Trade in services (% of GDP)',\n  2: 'Trade in services (% of GDP)',\n  3: 'Trade in services (% of GDP)',\n  4: 'Trade in services (% of GDP)',\n  5: 'Trade in services (% of GDP)',\n  6: 'Trade in services (% of GDP)',\n  7: 'Trade in services (% of GDP)',\n  8: 'Trade in services (% of GDP)',\n  9: 'Trade in services (% of GDP)',\n  10: 'Trade in services (% of GDP)',\n  11: 'Trade in services (% of GDP)',\n  12: 'Trade in services (% of GDP)',\n  13: 'Trade in services (% of GDP)',\n  14: 'Trade in services (% of GDP)',\n  15: 'Trade in services (% of GDP)',\n  16: 'Trade in services (% of GDP)',\n  17: 'Trade in services (% of GDP)',\n  18: 'Trade in services (% of GDP)',\n  19: 'Trade in services (% of GDP)',\n  20: 'Trade in services (% of GDP)',\n  21: 'Trade in services (% of GDP)',\n  22: 'Trade in services (% of GDP)',\n  23: 'Trade in services (% of GDP)',\n  24: 'Trade in services (% of GDP)',\n  25: 'Trade in services (% of GDP)',\n  26: 'Trade in services (% of GDP)',\n  27: 'Trade in services (% of GDP)',\n  28: 'Trade in services (% of GDP)',\n  29: 'Trade in services (% of GDP)',\n  30: 'Trade in services (% of GDP)',\n  31: 'Trade in services (% of GDP)',\n  32: 'Trade in services (% of GDP)',\n  33: 'Trade in services (% of GDP)',\n  34: 'Trade in services (% of GDP)',\n  35: 'Trade in services (% of GDP)',\n  36: 'Trade in services (% of GDP)',\n  37: 'Trade in services (% of GDP)',\n  38: 'Trade in services (% of GDP)',\n  39: 'Trade in services (% of GDP)',\n  40: 'Trade in services (% of GDP)',\n  41: 'Trade in services (% of GDP)',\n  42: 'Trade in services (% of GDP)',\n  43: 'Trade in services (% of GDP)',\n  44: 'Trade in services (% of GDP)',\n  45: 'Trade in services (% of GDP)',\n  46: 'Trade in services (% of GDP)',\n  47: 'Trade in services (% of GDP)'},\n 'Indicator Code': {1: 'BG.GSR.NFSV.GD.ZS',\n  2: 'BG.GSR.NFSV.GD.ZS',\n  3: 'BG.GSR.NFSV.GD.ZS',\n  4: 'BG.GSR.NFSV.GD.ZS',\n  5: 'BG.GSR.NFSV.GD.ZS',\n  6: 'BG.GSR.NFSV.GD.ZS',\n  7: 'BG.GSR.NFSV.GD.ZS',\n  8: 'BG.GSR.NFSV.GD.ZS',\n  9: 'BG.GSR.NFSV.GD.ZS',\n  10: 'BG.GSR.NFSV.GD.ZS',\n  11: 'BG.GSR.NFSV.GD.ZS',\n  12: 'BG.GSR.NFSV.GD.ZS',\n  13: 'BG.GSR.NFSV.GD.ZS',\n  14: 'BG.GSR.NFSV.GD.ZS',\n  15: 'BG.GSR.NFSV.GD.ZS',\n  16: 'BG.GSR.NFSV.GD.ZS',\n  17: 'BG.GSR.NFSV.GD.ZS',\n  18: 'BG.GSR.NFSV.GD.ZS',\n  19: 'BG.GSR.NFSV.GD.ZS',\n  20: 'BG.GSR.NFSV.GD.ZS',\n  21: 'BG.GSR.NFSV.GD.ZS',\n  22: 'BG.GSR.NFSV.GD.ZS',\n  23: 'BG.GSR.NFSV.GD.ZS',\n  24: 'BG.GSR.NFSV.GD.ZS',\n  25: 'BG.GSR.NFSV.GD.ZS',\n  26: 'BG.GSR.NFSV.GD.ZS',\n  27: 'BG.GSR.NFSV.GD.ZS',\n  28: 'BG.GSR.NFSV.GD.ZS',\n  29: 'BG.GSR.NFSV.GD.ZS',\n  30: 'BG.GSR.NFSV.GD.ZS',\n  31: 'BG.GSR.NFSV.GD.ZS',\n  32: 'BG.GSR.NFSV.GD.ZS',\n  33: 'BG.GSR.NFSV.GD.ZS',\n  34: 'BG.GSR.NFSV.GD.ZS',\n  35: 'BG.GSR.NFSV.GD.ZS',\n  36: 'BG.GSR.NFSV.GD.ZS',\n  37: 'BG.GSR.NFSV.GD.ZS',\n  38: 'BG.GSR.NFSV.GD.ZS',\n  39: 'BG.GSR.NFSV.GD.ZS',\n  40: 'BG.GSR.NFSV.GD.ZS',\n  41: 'BG.GSR.NFSV.GD.ZS',\n  42: 'BG.GSR.NFSV.GD.ZS',\n  43: 'BG.GSR.NFSV.GD.ZS',\n  44: 'BG.GSR.NFSV.GD.ZS',\n  45: 'BG.GSR.NFSV.GD.ZS',\n  46: 'BG.GSR.NFSV.GD.ZS',\n  47: 'BG.GSR.NFSV.GD.ZS'},\n 'Value': {1: '5.18582004031785',\n  2: '5.39104317158194',\n  3: '5.5538628716248',\n  4: '5.56914413270738',\n  5: '5.19695078203875',\n  6: '5.40768291560893',\n  7: '5.80368271828139',\n  8: '5.21588328275057',\n  9: '4.95045209477305',\n  10: '4.7824027098242',\n  11: '4.2504870223547',\n  12: '4.14563057288334',\n  13: '4.30399075666521',\n  14: '4.40080510442265',\n  15: '4.19273714999376',\n  16: '4.16825153699517',\n  17: '4.3153769998465',\n  18: '4.25738889684959',\n  19: '4.41862638615004',\n  20: '4.50158805524155',\n  21: '4.49741878932213',\n  22: '3.77530058604188',\n  23: '3.31781579465727',\n  24: '2.85162418197569',\n  25: '2.6016443001517',\n  26: '2.05508663909512',\n  27: '2.56910746223881',\n  28: '2.88596689759251',\n  29: '3.6725916549725',\n  30: '3.50957437651623',\n  31: '3.07318051114753',\n  32: '2.88821598814643',\n  33: '2.60756952179299',\n  34: '2.92910651637001',\n  35: '2.63895806252312',\n  36: '2.87430022516944',\n  37: '3.33629111539708',\n  38: '2.996177538713',\n  39: '3.08716010516239',\n  40: '2.65596208760107',\n  41: '2.86921108698813',\n  42: '2.78356411668598',\n  43: '2.38277888464179',\n  44: '2.20892246159393',\n  45: '2.26829248509016',\n  46: '2.36405617373393',\n  47: '2.75843802704353'}}"
     },
     "execution_count": 51,
     "metadata": {},
     "output_type": "execute_result"
    }
   ],
   "source": [
    "from_url[from_url['Indicator Name'] == 'Trade in services (% of GDP)'].to_dict()"
   ],
   "metadata": {
    "collapsed": false
   }
  },
  {
   "cell_type": "code",
   "execution_count": 30,
   "outputs": [
    {
     "data": {
      "text/plain": "2018    147\n2016    147\n2014    146\n2019    138\n2017    138\n       ... \n1964     37\n1962     37\n2021     30\n1961     27\n1960     27\nName: Year, Length: 62, dtype: int64"
     },
     "execution_count": 30,
     "metadata": {},
     "output_type": "execute_result"
    }
   ],
   "source": [
    "NewData = pd.DataFrame()"
   ],
   "metadata": {
    "collapsed": false
   }
  },
  {
   "cell_type": "code",
   "execution_count": 54,
   "outputs": [
    {
     "data": {
      "text/plain": "        Year                Indicator Name     Indicator Code Value\ncount   4727                          4727               4727  4727\nunique    62                           168                168  4085\ntop     2018  Merchandise trade (% of GDP)  TG.VAL.TOTL.GD.ZS   100\nfreq     147                            62                 62    81",
      "text/html": "<div>\n<style scoped>\n    .dataframe tbody tr th:only-of-type {\n        vertical-align: middle;\n    }\n\n    .dataframe tbody tr th {\n        vertical-align: top;\n    }\n\n    .dataframe thead th {\n        text-align: right;\n    }\n</style>\n<table border=\"1\" class=\"dataframe\">\n  <thead>\n    <tr style=\"text-align: right;\">\n      <th></th>\n      <th>Year</th>\n      <th>Indicator Name</th>\n      <th>Indicator Code</th>\n      <th>Value</th>\n    </tr>\n  </thead>\n  <tbody>\n    <tr>\n      <th>count</th>\n      <td>4727</td>\n      <td>4727</td>\n      <td>4727</td>\n      <td>4727</td>\n    </tr>\n    <tr>\n      <th>unique</th>\n      <td>62</td>\n      <td>168</td>\n      <td>168</td>\n      <td>4085</td>\n    </tr>\n    <tr>\n      <th>top</th>\n      <td>2018</td>\n      <td>Merchandise trade (% of GDP)</td>\n      <td>TG.VAL.TOTL.GD.ZS</td>\n      <td>100</td>\n    </tr>\n    <tr>\n      <th>freq</th>\n      <td>147</td>\n      <td>62</td>\n      <td>62</td>\n      <td>81</td>\n    </tr>\n  </tbody>\n</table>\n</div>"
     },
     "execution_count": 54,
     "metadata": {},
     "output_type": "execute_result"
    }
   ],
   "source": [
    "from_url.describe()"
   ],
   "metadata": {
    "collapsed": false
   }
  },
  {
   "cell_type": "code",
   "execution_count": 3,
   "outputs": [],
   "source": [
    "mls = pd.read_csv('Datasets/mlsSalaries copy.csv')"
   ],
   "metadata": {
    "collapsed": false
   }
  },
  {
   "cell_type": "code",
   "execution_count": 4,
   "outputs": [
    {
     "data": {
      "text/plain": "        base_salary  guaranteed_compensation\ncount  6.160000e+02             6.160000e+02\nmean   2.969777e+05             3.261392e+05\nstd    6.715792e+05             7.480007e+05\nmin    5.299992e+04             5.299992e+04\n25%    6.563130e+04             6.990325e+04\n50%    1.250000e+05             1.350020e+05\n75%    2.553750e+05             2.809390e+05\nmax    6.660000e+06             7.167500e+06",
      "text/html": "<div>\n<style scoped>\n    .dataframe tbody tr th:only-of-type {\n        vertical-align: middle;\n    }\n\n    .dataframe tbody tr th {\n        vertical-align: top;\n    }\n\n    .dataframe thead th {\n        text-align: right;\n    }\n</style>\n<table border=\"1\" class=\"dataframe\">\n  <thead>\n    <tr style=\"text-align: right;\">\n      <th></th>\n      <th>base_salary</th>\n      <th>guaranteed_compensation</th>\n    </tr>\n  </thead>\n  <tbody>\n    <tr>\n      <th>count</th>\n      <td>6.160000e+02</td>\n      <td>6.160000e+02</td>\n    </tr>\n    <tr>\n      <th>mean</th>\n      <td>2.969777e+05</td>\n      <td>3.261392e+05</td>\n    </tr>\n    <tr>\n      <th>std</th>\n      <td>6.715792e+05</td>\n      <td>7.480007e+05</td>\n    </tr>\n    <tr>\n      <th>min</th>\n      <td>5.299992e+04</td>\n      <td>5.299992e+04</td>\n    </tr>\n    <tr>\n      <th>25%</th>\n      <td>6.563130e+04</td>\n      <td>6.990325e+04</td>\n    </tr>\n    <tr>\n      <th>50%</th>\n      <td>1.250000e+05</td>\n      <td>1.350020e+05</td>\n    </tr>\n    <tr>\n      <th>75%</th>\n      <td>2.553750e+05</td>\n      <td>2.809390e+05</td>\n    </tr>\n    <tr>\n      <th>max</th>\n      <td>6.660000e+06</td>\n      <td>7.167500e+06</td>\n    </tr>\n  </tbody>\n</table>\n</div>"
     },
     "execution_count": 4,
     "metadata": {},
     "output_type": "execute_result"
    }
   ],
   "source": [
    "mls.describe()"
   ],
   "metadata": {
    "collapsed": false
   }
  },
  {
   "cell_type": "code",
   "execution_count": null,
   "outputs": [],
   "source": [],
   "metadata": {
    "collapsed": false
   }
  }
 ],
 "metadata": {
  "kernelspec": {
   "display_name": "Python 3",
   "language": "python",
   "name": "python3"
  },
  "language_info": {
   "codemirror_mode": {
    "name": "ipython",
    "version": 2
   },
   "file_extension": ".py",
   "mimetype": "text/x-python",
   "name": "python",
   "nbconvert_exporter": "python",
   "pygments_lexer": "ipython2",
   "version": "2.7.6"
  }
 },
 "nbformat": 4,
 "nbformat_minor": 0
}
